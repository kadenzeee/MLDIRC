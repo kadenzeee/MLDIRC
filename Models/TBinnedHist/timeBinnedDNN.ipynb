{
 "cells": [
  {
   "cell_type": "code",
   "execution_count": 1,
   "id": "c5e49eff",
   "metadata": {},
   "outputs": [
    {
     "name": "stderr",
     "output_type": "stream",
     "text": [
      "2025-10-06 13:04:05.652934: I tensorflow/core/platform/cpu_feature_guard.cc:210] This TensorFlow binary is optimized to use available CPU instructions in performance-critical operations.\n",
      "To enable the following instructions: AVX2 FMA, in other operations, rebuild TensorFlow with the appropriate compiler flags.\n",
      "/u/markhoff/Kitten/lib/python3.11/site-packages/matplotlib/projections/__init__.py:63: UserWarning: Unable to import Axes3D. This may be due to multiple versions of Matplotlib being installed (e.g. as a system package and as a pip package). As a result, the 3D projection is not available.\n",
      "  warnings.warn(\"Unable to import Axes3D. This may be due to multiple versions of \"\n"
     ]
    }
   ],
   "source": [
    "from tensorflow import data, keras\n",
    "import h5py\n",
    "import numpy as np"
   ]
  },
  {
   "cell_type": "markdown",
   "id": "f986c839",
   "metadata": {},
   "source": [
    "# Loading File\n",
    "\n",
    "- .h5 format allows for chunking when training on large datasets. This is nice for clusters where memory size is limited. However, in the implementation below, the entire file is loaded into memory. This is okay for testing, but will need to be thought about for cluster training."
   ]
  },
  {
   "cell_type": "code",
   "execution_count": null,
   "id": "0c5ca87f",
   "metadata": {},
   "outputs": [],
   "source": [
    "with h5py.File('70DEG.h5', 'r') as f:\n",
    "    X = f['X'][:]\n",
    "    Y = f['Y'][:]/2 - 1\n",
    "\n",
    "n_events = X.shape[0] # Assume X.shape = (n_events, n_features), Y.shape = (n_events)"
   ]
  },
  {
   "cell_type": "code",
   "execution_count": 10,
   "id": "f0b5abd7",
   "metadata": {},
   "outputs": [],
   "source": [
    "# ---------------------------------------------------------------\n",
    "#\n",
    "#                       PARAMETERS\n",
    "#\n",
    "# ---------------------------------------------------------------\n",
    "class_names = ['Pi+', 'Proton']\n",
    "num_classes = len(class_names) # Pions or kaons?\n",
    "\n",
    "\n",
    "batch_size  = 128 # How many events to feed to NN at a time?\n",
    "nepochs     = 5 # How many epochs?\n",
    "\n",
    "# Splits\n",
    "train_frac  = 0.7\n",
    "val_frac    = 0.15\n",
    "test_frac   = 0.15\n",
    "\n",
    "# ---------------------------------------------------------------"
   ]
  },
  {
   "cell_type": "markdown",
   "id": "9762f9c9",
   "metadata": {},
   "source": [
    "# Preparing Datasets"
   ]
  },
  {
   "cell_type": "code",
   "execution_count": 11,
   "id": "db27f6e9",
   "metadata": {},
   "outputs": [
    {
     "name": "stdout",
     "output_type": "stream",
     "text": [
      "Training on 22960 events\n",
      "Input dimension: 10240\n"
     ]
    }
   ],
   "source": [
    "# Preparing data\n",
    "\n",
    "# Shuffle the entire dataset to remove any ordering (e.g., angular dependence)\n",
    "rng = np.random.default_rng(seed=1)  # for reproducibility\n",
    "indices = rng.permutation(n_events)\n",
    "X = X[indices]\n",
    "Y = Y[indices]\n",
    "\n",
    "train_end   = int(n_events*train_frac)\n",
    "print(f'Training on {train_end} events')\n",
    "val_end     = train_end + int(n_events*val_frac)\n",
    "\n",
    "X_train, Y_train    = X[:train_end]       , Y[:train_end]\n",
    "X_val, Y_val        = X[train_end:val_end], Y[train_end:val_end]\n",
    "X_test, Y_test      = X[val_end:]         , Y[val_end:]\n",
    "\n",
    "train_ds = data.Dataset.from_tensor_slices((X_train, Y_train))\n",
    "train_ds = train_ds.shuffle(buffer_size=1024)\n",
    "train_ds = train_ds.batch(batch_size)\n",
    "train_ds = train_ds.prefetch(data.AUTOTUNE)\n",
    "\n",
    "val_ds   = data.Dataset.from_tensor_slices((X_val, Y_val))\n",
    "val_ds   = val_ds.batch(batch_size)\n",
    "val_ds   = val_ds.prefetch(data.AUTOTUNE)\n",
    "\n",
    "test_ds  = data.Dataset.from_tensor_slices((X_test, Y_test))\n",
    "test_ds  = test_ds.batch(batch_size)\n",
    "test_ds  = test_ds.prefetch(data.AUTOTUNE)\n",
    "\n",
    "input_dim = X.shape[1]\n",
    "print(f'Input dimension: {input_dim}')"
   ]
  },
  {
   "cell_type": "markdown",
   "id": "d58d7b2e",
   "metadata": {},
   "source": [
    "# Defining and Training"
   ]
  },
  {
   "cell_type": "code",
   "execution_count": 12,
   "id": "6e396678",
   "metadata": {},
   "outputs": [
    {
     "name": "stdout",
     "output_type": "stream",
     "text": [
      "\n",
      "\n",
      "Training with 16 nodes in hidden layer\n",
      "\n",
      "Epoch 1/5\n"
     ]
    },
    {
     "name": "stderr",
     "output_type": "stream",
     "text": [
      "/u/markhoff/Kitten/lib/python3.11/site-packages/keras/src/layers/reshaping/flatten.py:37: UserWarning: Do not pass an `input_shape`/`input_dim` argument to a layer. When using Sequential models, prefer using an `Input(shape)` object as the first layer in the model instead.\n",
      "  super().__init__(**kwargs)\n"
     ]
    },
    {
     "name": "stdout",
     "output_type": "stream",
     "text": [
      "\u001b[1m180/180\u001b[0m \u001b[32m━━━━━━━━━━━━━━━━━━━━\u001b[0m\u001b[37m\u001b[0m \u001b[1m2s\u001b[0m 8ms/step - accuracy: 0.5142 - loss: 0.6926 - val_accuracy: 0.5565 - val_loss: 0.6909\n",
      "Epoch 2/5\n",
      "\u001b[1m180/180\u001b[0m \u001b[32m━━━━━━━━━━━━━━━━━━━━\u001b[0m\u001b[37m\u001b[0m \u001b[1m1s\u001b[0m 7ms/step - accuracy: 0.5970 - loss: 0.6794 - val_accuracy: 0.5610 - val_loss: 0.6830\n",
      "Epoch 3/5\n",
      "\u001b[1m180/180\u001b[0m \u001b[32m━━━━━━━━━━━━━━━━━━━━\u001b[0m\u001b[37m\u001b[0m \u001b[1m1s\u001b[0m 7ms/step - accuracy: 0.6419 - loss: 0.6430 - val_accuracy: 0.5614 - val_loss: 0.6930\n",
      "Epoch 4/5\n",
      "\u001b[1m180/180\u001b[0m \u001b[32m━━━━━━━━━━━━━━━━━━━━\u001b[0m\u001b[37m\u001b[0m \u001b[1m1s\u001b[0m 7ms/step - accuracy: 0.6733 - loss: 0.6109 - val_accuracy: 0.5616 - val_loss: 0.7118\n",
      "Epoch 5/5\n",
      "\u001b[1m180/180\u001b[0m \u001b[32m━━━━━━━━━━━━━━━━━━━━\u001b[0m\u001b[37m\u001b[0m \u001b[1m1s\u001b[0m 7ms/step - accuracy: 0.6943 - loss: 0.5840 - val_accuracy: 0.5567 - val_loss: 0.7352\n",
      "39/39 - 0s - 6ms/step - accuracy: 0.5673 - loss: 0.7254\n"
     ]
    }
   ],
   "source": [
    "num_nodes = 16\n",
    "\n",
    "print(f'\\n\\nTraining with {num_nodes} nodes in hidden layer\\n')\n",
    "\n",
    "model = keras.Sequential([\n",
    "    keras.layers.Flatten(input_shape=(input_dim,)),\n",
    "    keras.layers.Dense(num_nodes, activation='relu'),\n",
    "    keras.layers.Dropout(0.2),\n",
    "    keras.layers.Dense(num_nodes, activation='relu'),\n",
    "    keras.layers.Dense(num_classes)\n",
    "    ])\n",
    "\n",
    "model.compile(optimizer='adam',\n",
    "    loss=keras.losses.SparseCategoricalCrossentropy(from_logits=True),\n",
    "    metrics=['accuracy'])\n",
    "\n",
    "model.fit(train_ds, validation_data=val_ds, epochs=nepochs)\n",
    "\n",
    "test_loss, test_acc = model.evaluate(test_ds, verbose=2)\n"
   ]
  },
  {
   "cell_type": "code",
   "execution_count": 6,
   "id": "5a805cdb",
   "metadata": {},
   "outputs": [],
   "source": [
    "%%script false --no-raise-error\n",
    "\n",
    "import time\n",
    "import numpy as np\n",
    "\n",
    "accs = []\n",
    "effys = []\n",
    "times = []\n",
    "\n",
    "preds = []\n",
    "\n",
    "for num_nodes in range(2, 17, 1):\n",
    "    print(f'\\n\\nTraining with {num_nodes} nodes in hidden layer\\n')\n",
    "    t1 = time.time()\n",
    "\n",
    "    model = keras.Sequential([\n",
    "        keras.layers.Flatten(input_shape=(input_dim,)),\n",
    "        keras.layers.Dense(num_nodes, activation='relu'),\n",
    "        keras.layers.Dropout(0.2),\n",
    "        keras.layers.Dense(num_nodes, activation='relu'),\n",
    "        keras.layers.Dense(num_classes)\n",
    "        ])\n",
    "\n",
    "    model.compile(optimizer='adam',\n",
    "                  loss=keras.losses.SparseCategoricalCrossentropy(from_logits=True),\n",
    "                  metrics=['accuracy'])\n",
    "\n",
    "    model.fit(train_ds, validation_data=val_ds, epochs=nepochs)\n",
    "\n",
    "    test_loss, test_acc = model.evaluate(test_ds, verbose=2)\n",
    "\n",
    "    probability_model = keras.Sequential([model, \n",
    "                                         keras.layers.Softmax()])\n",
    "\n",
    "    predictions = probability_model.predict(test_ds)\n",
    "    confidence = 0.95 # p-value (1 sigma = 0.68, 2 sigma = 0.95, 3 sigma = 0.997, etc)\n",
    "\n",
    "    correct     = 0\n",
    "    total       = 0\n",
    "\n",
    "    Y_test_labels = np.array([y.numpy() for _, y in test_ds.unbatch()])\n",
    "\n",
    "    for i, pred in enumerate(predictions):\n",
    "        preds.append((np.argmax(pred), np.max(pred)))\n",
    "        if pred[np.argmax(pred)] >= confidence:\n",
    "            total += 1\n",
    "            if np.argmax(pred) == Y_test_labels[i]:\n",
    "                correct += 1\n",
    "\n",
    "    t2 = time.time()\n",
    "\n",
    "\n",
    "    accs.append(correct/total if total > 0 else np.nan)\n",
    "    effys.append(total/predictions.shape[0])\n",
    "    times.append(t2-t1)\n",
    "    \n",
    "    print(f'\\nTest accuracy: {test_acc}, time: {t2-t1} s')\n",
    "\n",
    "print(f'\\n\\nAccuracies: {accs}')\n",
    "print(f'Efficiencies: {effys}')\n",
    "print(f'Times: {times}')\n",
    "print(preds)\n",
    "np.save('predictions.npy', preds)"
   ]
  },
  {
   "cell_type": "markdown",
   "id": "72515815",
   "metadata": {},
   "source": [
    "# Efficiency Evaluation\n",
    "\n",
    "- If a prediction for a given event does not reach significance, it is disgarded. Only events which reach significance count towards efficiency. \n",
    "\n",
    "- Significant events that are correct are recorded as a correct prediction. Significant events that are wrong are recorded as an incorrect prediction."
   ]
  },
  {
   "cell_type": "code",
   "execution_count": 13,
   "id": "4cafc50c",
   "metadata": {},
   "outputs": [
    {
     "name": "stdout",
     "output_type": "stream",
     "text": [
      "WARNING:tensorflow:5 out of the last 11 calls to <function TensorFlowTrainer.make_predict_function.<locals>.one_step_on_data_distributed at 0x7f6fbc259440> triggered tf.function retracing. Tracing is expensive and the excessive number of tracings could be due to (1) creating @tf.function repeatedly in a loop, (2) passing tensors with different shapes, (3) passing Python objects instead of tensors. For (1), please define your @tf.function outside of the loop. For (2), @tf.function has reduce_retracing=True option that can avoid unnecessary retracing. For (3), please refer to https://www.tensorflow.org/guide/function#controlling_retracing and https://www.tensorflow.org/api_docs/python/tf/function for  more details.\n",
      "\u001b[1m39/39\u001b[0m \u001b[32m━━━━━━━━━━━━━━━━━━━━\u001b[0m\u001b[37m\u001b[0m \u001b[1m0s\u001b[0m 5ms/step\n",
      "Accuracy: 1 out of 3... 0.33333\n",
      "Events Kept: 3 out of 4920... 0.00061\n"
     ]
    }
   ],
   "source": [
    "probability_model = keras.Sequential([model, \n",
    "                                         keras.layers.Softmax()])\n",
    "\n",
    "predictions = probability_model.predict(test_ds)\n",
    "confidence = 0.05 # p-value (2 sigma = 0.05, 3 sigma = 0.003, etc)\n",
    "\n",
    "correct     = 0\n",
    "total       = 0\n",
    "\n",
    "Y_test_labels = np.array([y.numpy() for _, y in test_ds.unbatch()])\n",
    "\n",
    "for i, pred in enumerate(predictions):\n",
    "    if pred[np.argmax(pred)] >= 1 - confidence:\n",
    "        total += 1\n",
    "        if np.argmax(pred) == Y_test_labels[i]:\n",
    "            correct += 1\n",
    "\n",
    "try:\n",
    "    print(f'Accuracy: {correct} out of {total}... {correct/total:0.5f}\\nEvents Kept: {total} out of {predictions.shape[0]}... {total/predictions.shape[0]:0.5f}')\n",
    "except ZeroDivisionError:\n",
    "    print('No events kept!')"
   ]
  },
  {
   "cell_type": "markdown",
   "id": "acbcd5a3",
   "metadata": {},
   "source": [
    "# Test for Dataset\n",
    "\n",
    "- This code checks if there are any duplicate events in the dataset, and gives the confusion matrix of the NN."
   ]
  },
  {
   "cell_type": "code",
   "execution_count": 14,
   "id": "dd1d4978",
   "metadata": {},
   "outputs": [
    {
     "name": "stdout",
     "output_type": "stream",
     "text": [
      "Checking for overlap between splits:\n",
      "Overlap between Train and Val: 0 events\n",
      "Overlap between Train and Test: 0 events\n",
      "Overlap between Val and Test: 0 events\n",
      "\u001b[1m39/39\u001b[0m \u001b[32m━━━━━━━━━━━━━━━━━━━━\u001b[0m\u001b[37m\u001b[0m \u001b[1m0s\u001b[0m 5ms/step\n"
     ]
    },
    {
     "name": "stderr",
     "output_type": "stream",
     "text": [
      "2025-10-06 13:24:06.106928: I tensorflow/core/framework/local_rendezvous.cc:407] Local rendezvous is aborting with status: OUT_OF_RANGE: End of sequence\n"
     ]
    },
    {
     "data": {
      "image/png": "[encoded data removed]",
      "text/plain": [
       "<Figure size 640x480 with 2 Axes>"
      ]
     },
     "metadata": {},
     "output_type": "display_data"
    }
   ],
   "source": [
    "import matplotlib.pyplot as plt\n",
    "from sklearn.metrics import confusion_matrix, ConfusionMatrixDisplay\n",
    "\n",
    "# --- Check for overlap between train, val, and test sets (independence) ---\n",
    "# We'll check if any rows in X_train, X_val, X_test are identical\n",
    "\n",
    "def check_overlap(X1, X2, name1=\"Set1\", name2=\"Set2\"):\n",
    "    # Convert to a set of tuples for fast comparison\n",
    "    set1 = set(map(tuple, X1))\n",
    "    set2 = set(map(tuple, X2))\n",
    "    overlap = set1 & set2\n",
    "    print(f\"Overlap between {name1} and {name2}: {len(overlap)} events\")\n",
    "    return len(overlap)\n",
    "\n",
    "print(\"Checking for overlap between splits:\")\n",
    "check_overlap(X_train, X_val, \"Train\", \"Val\")\n",
    "check_overlap(X_train, X_test, \"Train\", \"Test\")\n",
    "check_overlap(X_val, X_test, \"Val\", \"Test\")\n",
    "\n",
    "# --- Confusion Matrix on Test Set ---\n",
    "# Get predictions for test set\n",
    "probability_model = keras.Sequential([model, keras.layers.Softmax()])\n",
    "predictions = probability_model.predict(test_ds)\n",
    "y_pred = np.argmax(predictions, axis=1)\n",
    "y_true = np.array([y.numpy() for _, y in test_ds.unbatch()])\n",
    "\n",
    "cm = confusion_matrix(y_true, y_pred, labels=range(num_classes))\n",
    "disp = ConfusionMatrixDisplay(confusion_matrix=cm, display_labels=class_names)\n",
    "disp.plot(cmap='Blues')\n",
    "plt.title(\"Confusion Matrix (Test Set)\")\n",
    "plt.show()"
   ]
  }
 ],
 "metadata": {
  "kernelspec": {
   "display_name": "Kitten",
   "language": "python",
   "name": "python3"
  },
  "language_info": {
   "codemirror_mode": {
    "name": "ipython",
    "version": 3
   },
   "file_extension": ".py",
   "mimetype": "text/x-python",
   "name": "python",
   "nbconvert_exporter": "python",
   "pygments_lexer": "ipython3",
   "version": "3.11.2"
  }
 },
 "nbformat": 4,
 "nbformat_minor": 5
}
